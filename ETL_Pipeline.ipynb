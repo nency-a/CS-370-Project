{
 "cells": [
  {
   "cell_type": "code",
   "execution_count": 1,
   "metadata": {},
   "outputs": [
    {
     "data": {
      "text/plain": [
       "True"
      ]
     },
     "execution_count": 1,
     "metadata": {},
     "output_type": "execute_result"
    }
   ],
   "source": [
    "from dotenv import load_dotenv\n",
    "load_dotenv()"
   ]
  },
  {
   "cell_type": "code",
   "execution_count": 5,
   "metadata": {},
   "outputs": [
    {
     "name": "stdout",
     "output_type": "stream",
     "text": [
      "ClearML pipeline page: http://localhost:8080/pipelines/7f51a955686e46aeaf35b96c96a4e9e8/experiments/e64da58832624df3895b30fb5d98031e\n"
     ]
    }
   ],
   "source": [
    "from clearml import PipelineController\n",
    "pipe = PipelineController(\n",
    "  name=\"ETL\", project=\"my project\"\n",
    ")"
   ]
  },
  {
   "cell_type": "code",
   "execution_count": null,
   "metadata": {},
   "outputs": [],
   "source": [
    "class UserDoc:\n",
    "    username : str\n",
    "    id : int\n",
    "    def __init__(self,name:str):\n",
    "        username=name"
   ]
  },
  {
   "cell_type": "code",
   "execution_count": null,
   "metadata": {},
   "outputs": [],
   "source": [
    "myclient = pymongo.MongoClient(\"mongodb://localhost:27017/\")\n",
    "local = myclient[\"local\"]\n",
    "coll = local[\"ETL\"]"
   ]
  },
  {
   "cell_type": "code",
   "execution_count": 21,
   "metadata": {},
   "outputs": [
    {
     "name": "stdout",
     "output_type": "stream",
     "text": [
      "200\n",
      "Where to get started with ROS 2\n"
     ]
    }
   ],
   "source": [
    "from bs4 import BeautifulSoup\n",
    "import requests\n",
    "url = \"https://www.ros.org/blog/getting-started/\"\n",
    "response = requests.get(url)\n",
    "print(response.status_code)\n",
    "soup = BeautifulSoup(response.text, \"html.parser\")\n",
    "title = soup.find_all(\"h1\")\n",
    "subtitle = soup.find_all(\"h2\")\n",
    "data = {\n",
    "    \"Title\": title[0].string,\n",
    "    \"Subtitle\": subtitle[0].string,\n",
    "    \"Content\": soup.get_text(),\n",
    "}\n",
    "print(subtitle[0].string)\n",
    "# for x in title:\n",
    "#     print(x)"
   ]
  },
  {
   "cell_type": "code",
   "execution_count": null,
   "metadata": {},
   "outputs": [
    {
     "name": "stdout",
     "output_type": "stream",
     "text": [
      "{'_id': ObjectId('6754dd51af3b5858d805b4f9'), 'URL': 'https://www.ros.org/blog/getting-started/', 'Title': 'Getting Started', 'Subtitle': 'Where to get started with ROS 2', 'Content': '\\n\\n\\n\\n\\n\\n\\n\\n\\n\\n\\nROS: Getting Started\\n\\n\\n\\n\\n\\n\\n\\n\\n\\n\\n\\n\\n\\n\\n\\n\\n\\n\\n\\n\\n\\n\\nWhy ROS?\\nGetting Started\\nCommunity\\nEcosystem\\n\\n\\n\\n\\n\\n\\n\\n\\n\\n\\n\\nGetting Started\\nWhere to get started with ROS 2\\n\\n\\nInstallation\\nROS is released as distributions, also called â\\x80\\x9cdistrosâ\\x80\\x9d, with more than one ROS distribution supported at a time. Some releases come with long term support (LTS), meaning they are more stable and have undergone extensive testing. Other distributions are newer with shorter lifetimes, but with support for more recent platforms and more recent versions of their constituent ROS packages. See the distributions list for more details. Generally a new ROS distro is released every year on world turtle day, with LTS distros being released in even years. We currently recommend one of the versions below:\\n\\n\\n\\n\\n\\n\\nROS 2 Jazzy Jalisco\\nUbuntu Linux 24.04, Windows 10\\n(Latest ROS 2 LTS)\\nInstall\\n\\n\\n\\n\\n\\n\\nGet ROS 2 Humble Hawksbill\\nUbuntu Linux 22.04, Windows 10\\n(Best upgrade path for ROS 1 users)\\nInstall\\n\\n\\n\\n\\nWant to try ROS using Docker? Check out the latest distros on Dockerhub\\nIf this is your first time using ROS, we highly recommend that you use a Tier 1 operating system as listed by REP-2000 for your desired ROS Distro.\\nImportant Notes on Installation\\nROS is a complex piece of software that workâ\\x80\\x99s closely with your computerâ\\x80\\x99s\\noperating system and system libraries.  As such, we build and test each ROS\\ndistro with only a handful of the latest operating systems, we call these\\noperating systems, â\\x80\\x9ctier 1â\\x80\\x9d.  Each ROS distro is built and tested for these tier\\n1 operating systems only, other operating systems may require significantly\\nmore work to run a particular ROS distro.  In practical terms this means that\\nyouâ\\x80\\x99ll get the best experience if you use a the tier 1 operating systems we\\nrecommended.  For example, ROS 2 Humble Hawksbill works best on Ubuntu 22.04\\nJammy Jellyfish, and Windows 10.  If you try to install ROS on any other\\noperating system you may run into issues, and we do not recommend this for new\\nusers.  For more information about ROS distros and their tier 1 operating\\nsystems please read REP-2000.\\nIf you plan on using the Gazebo simulator with ROS\\nwe recommend that you consult the Gazebo documentation for the recommended\\nversion of Gazebo for your ROS\\ninstallation. Not all ROS\\nand Gazebo versions are compatible, other versions are compatible but require\\nthat you build from source. Using the recommended combination of ROS and Gazebo\\nwill greatly improve your overall experience. No matter what combination you\\ndecide on, youâ\\x80\\x99ll need to use ROS/GZ\\nbridge to connect the two pieces of\\nsoftware.\\nIf you are a new user and would like to install the latest version of ROS or\\nROS 2 on any operating system other than the listed tier 1 operating system we\\nhighly recommend that you install the recommended tier 1 operating system in a\\nvirtual machine and then install ROS inside of the virtual\\nmachine. Alternatively, if you are familiar with Docker, you can also use ROS in\\na Docker container.\\nSupport\\nThere are several mechanisms in place to provide support to the ROS community,\\neach with its own purpose: package documentation, Q&A\\nforum, discussion forum,\\npackage index, and of course the issue trackers.  It is\\nimportant to pick the right resource to reduce response time, avoid message\\nduplication, and promote the discussion of new ideas.\\nROS Package Documentation \\nDocumentation for core ROS packages as well as package specific content is\\nhosted on docs.ros.org.  On this site you can find the\\ncore tutorials and documentation for the project as well as generated API\\ndocumentation for individual packages.\\nRobotics Stack Exchange \\nIf the documentation doesnâ\\x80\\x99t address your problem, Robotics Stack Exchange is next.  Take heart: it is very likely that\\nsomeone else has faced the same problem before, and that itâ\\x80\\x99s covered among the\\nmore than 60,000 questions at ROS Answers.  Start by searching for questions\\nsimilar to yours; if your question isnâ\\x80\\x99t already asked, post a new one. Be sure\\nto check the guidelines on how to prepare your question before posting.\\nROS Discourse Forums \\nTo stay up-to-date on the latest developments within the ROS community, youâ\\x80\\x99ll\\nwant to join the ROS Discourse forums.  These\\nforums are the place for announcements, news, and discussions of general\\ninterest.  The ROS Discourse is not the right place to ask troubleshooting\\nquestions or report bugs; please use the other support resources listed above\\ninstead.\\nOpen Robotics Discord Server  \\nOpen Robotics hosts a community Discord server where ROS,\\nGazebo, and Open-RMF users can meet with each other, chat, and coordinate on\\nopen-source development. If you are looking to connect with ROS users this a\\ngreat place to start.\\nROS Index \\nWhen you want to find out information about a specific package the\\nindex is the best place to start.  It connects you to\\nall the important locations relevant to a package.  In addition to the official\\ndocumentation for ROS packages, the wiki contains two key resources you should\\nconsult: the Troubleshooting guide and the FAQ. Solutions to many common\\nproblems are covered in these two pages. If you have ever used\\nPyPI you should feel right at home on ROS Index.\\nIssue Trackers \\nWhen youâ\\x80\\x99ve identified a bug (e.g., as a result of a discussion at Robotics Stack Exchange), or when you want to request a new feature,\\nhead to the issue trackers.  Links are provided in the packages metadata\\navailable on ROS Index.  When reporting a bug, be sure\\nto provide a detailed description of the problem, the environment in which it\\noccurs, any detail that may help developers to reproduce the issue, and if\\npossible, a debug backtrace.\\n\\n\\n\\n\\n\\n\\n\\n    \\xa0\\n  \\n\\n\\n\\n\\n\\n\\n\\n\\n\\n\\n    \\xa0\\n  \\n\\n\\n\\n\\n\\n\\n\\n\\n\\n\\n    \\xa0\\n  \\n\\n\\n\\n\\n\\n\\n\\n\\n\\n\\n    \\xa0\\n  \\n\\n\\n\\n\\n\\n\\n\\n\\n\\n\\n    \\xa0\\n  \\n\\n\\n\\n\\n\\n\\n\\n\\n\\n\\n    \\xa0\\n  \\n\\n\\n\\n\\n\\n\\n\\n\\n\\n\\n    \\xa0\\n  \\n\\n\\n\\n\\n\\n\\n\\n\\n\\n\\n    \\xa0\\n  \\n\\n\\n\\n\\n\\n\\n\\n\\n\\n\\n\\n\\n\\n\\n\\n\\n\\n\\n\\n\\n\\n\\n\\n\\n\\n\\n\\nHome\\n\\nWhy ROS?\\nGetting Started\\nCommunity\\nEcosystem\\n\\n\\n\\n\\nQ&A\\nForum\\nPackages\\nWiki\\nDocumentation\\n\\n\\n\\n\\n\\n\\nmedia\\nQ&A\\nForum\\nPackages\\nROSCon\\nWiki\\ndocumentation\\ndiscord\\n\\n\\n\\n\\n\\tBrought to you by Open Robotics |\\n\\t        licensed under\\n        Creative Commons Attributions 3.0 | Â©2021 Open Robotics\\n\\n\\n\\n\\n\\n\\n\\n\\n\\n'}\n"
     ]
    }
   ],
   "source": [
    "from clearml import PipelineDecorator\n",
    "\n",
    "# @PipelineDecorator.component(cache=True,return_values=['data'])\n",
    "def crawlArticle(link:str):\n",
    "    import requests\n",
    "    from bs4 import BeautifulSoup\n",
    "    response = requests.get(link)\n",
    "    soup = BeautifulSoup(response.text,\"html.parser\")\n",
    "    title = soup.find_all(\"h1\")\n",
    "    subtitle = soup.find_all(\"h2\")\n",
    "    data = {\n",
    "        \"URL\": link,\n",
    "        \"Title\": title[0].string,\n",
    "        \"Subtitle\": subtitle[0].string,\n",
    "        \"Content\": soup.get_text(),\n",
    "    }\n",
    "    return data\n",
    "\n",
    "# @PipelineDecorator.component(cache=True, return_values=[\"_id\"])\n",
    "def datatoDB(data:dict):\n",
    "    import pymongo\n",
    "    myclient = pymongo.MongoClient(\"mongodb://localhost:27017/\")\n",
    "    local = myclient[\"local\"]\n",
    "    col = local[\"RawData\"]\n",
    "    _id = col.insert_one(data).inserted_id\n",
    "    return _id\n",
    "\n",
    "# @PipelineDecorator.component(cache=True, return_values=[\"doc\"])\n",
    "def confirmDB(_id):\n",
    "    import pymongo\n",
    "    myclient = pymongo.MongoClient(\"mongodb://localhost:27017/\")\n",
    "    local = myclient[\"local\"]\n",
    "    col = local[\"RawData\"]\n",
    "    doc = col.find_one({\"_id\" : _id})\n",
    "    return doc\n",
    "\n",
    "# @PipelineDecorator.pipeline(name=\"ETL Pipeline\",project=\"my project\")\n",
    "def main(link:str):\n",
    "    data = crawlArticle(link)\n",
    "    _id = datatoDB(data)\n",
    "    doc = confirmDB(_id)\n",
    "    print(doc)\n",
    "\n",
    "if __name__==\"__main__\":\n",
    "    # PipelineDecorator.run_locally()\n",
    "    main(\"https://www.ros.org/blog/getting-started/\")\n",
    "    main(\"https://docs.nav2.org/development_guides/devcontainer_docs/index.html\")\n",
    "\n",
    "    "
   ]
  }
 ],
 "metadata": {
  "kernelspec": {
   "display_name": "Python 3",
   "language": "python",
   "name": "python3"
  },
  "language_info": {
   "codemirror_mode": {
    "name": "ipython",
    "version": 3
   },
   "file_extension": ".py",
   "mimetype": "text/x-python",
   "name": "python",
   "nbconvert_exporter": "python",
   "pygments_lexer": "ipython3",
   "version": "3.10.12"
  }
 },
 "nbformat": 4,
 "nbformat_minor": 2
}
