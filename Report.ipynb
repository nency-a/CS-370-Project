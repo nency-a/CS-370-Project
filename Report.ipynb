{
 "cells": [
  {
   "cell_type": "markdown",
   "metadata": {},
   "source": [
    "# Docker-compose\n",
    "![Docker-compose](docker-compose_running.png)\n"
   ]
  },
  {
   "cell_type": "markdown",
   "metadata": {},
   "source": [
    "# ClearML running on localhost:8080\n",
    "![ClearML](ClearML_localhost8080.png)"
   ]
  },
  {
   "cell_type": "markdown",
   "metadata": {},
   "source": [
    "# Qdrant\n",
    "## Qdrant Collections\n",
    "![Qdrant Collections](Qdrant_Collections.png)\n",
    "## Qdrant EmbeddingSpace\n",
    "![Qdrant EmbeddingSpace](Qdrant_EmbeddingSpace.png)\n",
    "## Qdrant Vector\n",
    "![Qdrant Vector](Qdrant_EmbeddingSpace_vector.png)"
   ]
  }
 ],
 "metadata": {
  "language_info": {
   "name": "python"
  }
 },
 "nbformat": 4,
 "nbformat_minor": 2
}
